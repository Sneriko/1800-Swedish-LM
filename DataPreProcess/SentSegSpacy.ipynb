{
  "nbformat": 4,
  "nbformat_minor": 0,
  "metadata": {
    "colab": {
      "name": "SentenceSegSpacy.ipynb",
      "provenance": []
    },
    "kernelspec": {
      "name": "python3",
      "display_name": "Python 3"
    }
  },
  "cells": [
    {
      "cell_type": "code",
      "metadata": {
        "id": "jJnlzw2WvgLM"
      },
      "source": [
        "import spacy"
      ],
      "execution_count": null,
      "outputs": []
    },
    {
      "cell_type": "code",
      "metadata": {
        "id": "0R5PeBV9yttZ",
        "colab": {
          "base_uri": "https://localhost:8080/"
        },
        "outputId": "5b37c8c3-1f19-4146-b5c3-0dbc0d2f1045"
      },
      "source": [
        "from google.colab import drive\n",
        "drive.mount('/content/drive')"
      ],
      "execution_count": null,
      "outputs": [
        {
          "output_type": "stream",
          "text": [
            "Mounted at /content/drive\n"
          ],
          "name": "stdout"
        }
      ]
    },
    {
      "cell_type": "code",
      "metadata": {
        "id": "bAKY5L3Uwdyi"
      },
      "source": [
        "nlp = spacy.load('/content/drive/MyDrive/Examensarbete/SwedishModel')"
      ],
      "execution_count": null,
      "outputs": []
    },
    {
      "cell_type": "code",
      "metadata": {
        "colab": {
          "base_uri": "https://localhost:8080/"
        },
        "id": "6IOzRYuv8pcm",
        "outputId": "a8891042-2a5c-47a5-bf0a-fdc4af3a4863"
      },
      "source": [
        "nlp.remove_pipe('ner')"
      ],
      "execution_count": null,
      "outputs": [
        {
          "output_type": "execute_result",
          "data": {
            "text/plain": [
              "('ner', <spacy.pipeline.pipes.EntityRecognizer at 0x7f3b845073a8>)"
            ]
          },
          "metadata": {
            "tags": []
          },
          "execution_count": 5
        }
      ]
    },
    {
      "cell_type": "code",
      "metadata": {
        "id": "GsPvRy3_8RoM"
      },
      "source": [
        "def runNlp(path):\n",
        "  with open(path, 'r') as f:\n",
        "    string = f.readline()\n",
        "    return nlp(string)\n",
        "    "
      ],
      "execution_count": null,
      "outputs": []
    },
    {
      "cell_type": "code",
      "metadata": {
        "id": "rKyL4fRQDAo4"
      },
      "source": [
        "docs = []\n",
        "docs.append(runNlp('/content/drive/MyDrive/Riksarkivet/1800-talsner/Datasets/bible2000PartI.txt'))\n",
        "docs.append(runNlp('/content/drive/MyDrive/Riksarkivet/1800-talsner/Datasets/bible2000PartII.txt'))\n",
        "docs.append(runNlp('/content/drive/MyDrive/Riksarkivet/1800-talsner/Datasets/bible2000PartIII.txt'))\n",
        "docs.append(runNlp('/content/drive/MyDrive/Riksarkivet/1800-talsner/Datasets/bible2000PartIV.txt'))\n",
        "docs.append(runNlp('/content/drive/MyDrive/Riksarkivet/1800-talsner/Datasets/bible2000PartV.txt'))"
      ],
      "execution_count": null,
      "outputs": []
    },
    {
      "cell_type": "code",
      "metadata": {
        "id": "It0HInggf7C3"
      },
      "source": [
        "with open('/content/drive/MyDrive/Riksarkivet/1800-talsner/Datasets/Bible2000SentSeg.txt', 'w') as f:\n",
        "  for doc in docs:\n",
        "    for sent in doc.sents:\n",
        "      f.write(sent.text + '\\n')\n"
      ],
      "execution_count": null,
      "outputs": []
    }
  ]
}