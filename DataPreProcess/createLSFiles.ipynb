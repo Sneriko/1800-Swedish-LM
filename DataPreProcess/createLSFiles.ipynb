{
 "metadata": {
  "language_info": {
   "codemirror_mode": {
    "name": "ipython",
    "version": 3
   },
   "file_extension": ".py",
   "mimetype": "text/x-python",
   "name": "python",
   "nbconvert_exporter": "python",
   "pygments_lexer": "ipython3",
   "version": "3.7.4-final"
  },
  "orig_nbformat": 2,
  "kernelspec": {
   "name": "python37464bitvenvvenve56eb1c324534f00b97e0476d141161c",
   "display_name": "Python 3.7.4 64-bit ('.venv': venv)",
   "language": "python"
  }
 },
 "nbformat": 4,
 "nbformat_minor": 2,
 "cells": [
  {
   "cell_type": "code",
   "execution_count": 1,
   "metadata": {},
   "outputs": [],
   "source": [
    "import pathlib\n",
    "p = pathlib.Path.home() / 'Dropbox' / 'Riksarkivet' / '1800_ner' / 'Datasets' \n",
    "pOri = p / 'LSOriFiles'\n",
    "fileList = list(pOri.rglob('*conll.txt'))"
   ]
  },
  {
   "cell_type": "code",
   "execution_count": 3,
   "metadata": {},
   "outputs": [],
   "source": [
    " import re\n",
    " for doc in fileList:\n",
    "    corpusId = ''\n",
    "    with open(doc, mode='r') as f:\n",
    "        for line in f:\n",
    "            if line.startswith('# ID:'):\n",
    "                corpusId = line.split()[2] + '.txt'\n",
    "        pWrite = p / 'LabelStudio' / 'EvalTextFiles' / corpusId\n",
    "    with open(doc, mode='r') as f, open(pWrite, mode='w+') as fw:\n",
    "        for line in f:\n",
    "            if line.startswith('# text') and len(line.split('=')[1].strip().split()) > 2:\n",
    "                lineClean = re.sub('[^A-ZÅÄÖa-zåäö0-9.,:;!?\\s\\'\\\"-]+', '', line.split('=')[1].strip()).strip()\n",
    "                fw.write(lineClean + '\\n')\n",
    "\n"
   ]
  },
  {
   "cell_type": "code",
   "execution_count": 8,
   "metadata": {},
   "outputs": [
    {
     "output_type": "stream",
     "name": "stdout",
     "text": [
      "svediakorp-sec510.txt\nsvediakorp-sec1149.txt\nsvediakorp-sec481.txt\nsvediakorp-court38.txt\nsvediakorp-court46.txt\nsvediakorp-court36.txt\nsvediakorp-sec469.txt\nsvediakorp-per28.txt\n"
     ]
    }
   ],
   "source": [
    "import os\n",
    "pTextfiles = p / 'LabelStudio' / 'EvalTextFiles'\n",
    "fileList2 = list(pTextfiles.rglob('*.txt'))\n",
    "for doc in fileList2:\n",
    "    fileNameRead = str(pathlib.Path(doc)).split('/')[-1]\n",
    "    print(fileNameRead)\n",
    "    with open(doc, 'r')as f:\n",
    "        fileIndex = 0\n",
    "        lines = f.readlines()\n",
    "        chunks = [lines[100*i:100*(i+1)] for i in range(int(len(lines)/100) + 1)]\n",
    "        for i, chunk in enumerate(chunks):\n",
    "            fileNameWrite = fileNameRead.split('.')[0] + '-' + str(i) + '.txt'\n",
    "            pWrite = p / 'LabelStudio' / 'Eval100TextFiles' / fileNameWrite\n",
    "            with open(pWrite, 'w+') as fw:\n",
    "                for sent in chunk:\n",
    "                    fw.write(sent)\n",
    "        \n",
    "                \n",
    "\n"
   ]
  },
  {
   "cell_type": "code",
   "execution_count": null,
   "metadata": {},
   "outputs": [],
   "source": []
  }
 ]
}