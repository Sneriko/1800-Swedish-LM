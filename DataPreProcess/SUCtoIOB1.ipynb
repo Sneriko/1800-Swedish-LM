{
 "cells": [
  {
   "cell_type": "code",
   "execution_count": 5,
   "outputs": [],
   "source": [
    "import xml.etree.ElementTree as ET\n",
    "from sklearn.model_selection import train_test_split\n",
    "import pandas as pd"
   ],
   "metadata": {
    "collapsed": false,
    "pycharm": {
     "name": "#%%\n"
    }
   }
  },
  {
   "cell_type": "code",
   "execution_count": 6,
   "metadata": {
    "collapsed": true
   },
   "outputs": [],
   "source": [
    "tree = ET.parse('../Datasets/SUC/suc3.xml')\n",
    "root = tree.getroot()\n",
    "ents = [\"PRS\", \"ORG\", \"LOC\", \"TME\"]\n",
    "sentsList = []\n",
    "\n",
    "for sent in root.iter('sentence'):\n",
    "    prevEntType = None\n",
    "    tokensList = []\n",
    "    for child in sent:\n",
    "        if child.tag == 'name':\n",
    "            prevEntType = None\n",
    "            for token in child.iter('w'):\n",
    "                nameDict = {'orth': token.text, 'tag': token.attrib['msd'].replace('.', '|'), \"ner\": \"O\"}\n",
    "                tokensList.append(nameDict)\n",
    "        elif child.tag == 'ne' and child.attrib['type'] in ents and child.attrib['type'] == prevEntType:\n",
    "            entityTokenList = child.attrib['name'].split(' ')\n",
    "            for token in child.iter('w'):\n",
    "                neDict = {'orth': token.text, 'tag': token.attrib['msd'].replace('.', '|')}\n",
    "                if token.text == entityTokenList[0]:\n",
    "                    neDict['ner'] = 'B-' + child.attrib['type']\n",
    "                    tokensList.append(neDict)\n",
    "                    continue\n",
    "                else:\n",
    "                    neDict['ner'] = 'I-' + child.attrib['type']\n",
    "                    tokensList.append(neDict)\n",
    "                    continue\n",
    "        elif child.tag == 'ne' and child.attrib['type'] in ents:\n",
    "            prevEntType = child.attrib['type']\n",
    "            for token in child.iter('w'):\n",
    "                neDict = {'orth': token.text, 'tag': token.attrib['msd'].replace('.', '|'), 'ner': 'I-' + child.attrib['type']}\n",
    "                tokensList.append(neDict)\n",
    "        elif child.tag == 'ne':\n",
    "            prevEntType = None\n",
    "            for token in child.iter('w'):\n",
    "                tokenDict = {'orth': token.text, 'tag': token.attrib['msd'].replace('.', '|'), \"ner\": \"O\"}\n",
    "                tokensList.append(tokenDict)\n",
    "        elif child.tag == 'w':\n",
    "            prevEntType = None\n",
    "            tokenDict = {'orth': child.text, 'tag': child.attrib['msd'].replace('.', '|'), \"ner\": \"O\"}\n",
    "            tokensList.append(tokenDict)\n",
    "        else:\n",
    "            prevEntType = None\n",
    "            continue\n",
    "    sentsList.append(tokensList)"
   ]
  },
  {
   "cell_type": "code",
   "execution_count": 7,
   "metadata": {},
   "outputs": [],
   "source": [
    "train, test = train_test_split(sentsList)"
   ]
  },
  {
   "cell_type": "code",
   "execution_count": 8,
   "outputs": [],
   "source": [
    "with open('../Datasets/SUC/SUC3trainIOB1.txt', 'w', encoding='utf-8') as trainFile, open('../Datasets/SUC/SUC3testIOB1.txt', 'w', encoding='utf-8') as testFile:\n",
    "    for sent in train:\n",
    "        for token in sent:\n",
    "            trainFile.write(token['orth'] + ' ' + '-' + ' ' + '-' + ' ' + token['ner'] + '\\n')\n",
    "        trainFile.write('\\n')\n",
    "    for sent in test:\n",
    "        for token in sent:\n",
    "            testFile.write(token['orth'] + ' ' + token['ner'] + '\\n')\n",
    "        testFile.write('\\n')\n"
   ],
   "metadata": {
    "collapsed": false,
    "pycharm": {
     "name": "#%%\n"
    }
   }
  },
  {
   "cell_type": "code",
   "execution_count": null,
   "metadata": {},
   "outputs": [],
   "source": []
  }
 ],
 "metadata": {
  "kernelspec": {
   "display_name": "Python 3.7.4 64-bit ('.venv')",
   "language": "python",
   "name": "python37464bitvenv939b6b84cb7140b0ad1aeb069e8d1355"
  },
  "language_info": {
   "codemirror_mode": {
    "name": "ipython",
    "version": 2
   },
   "file_extension": ".py",
   "mimetype": "text/x-python",
   "name": "python",
   "nbconvert_exporter": "python",
   "pygments_lexer": "ipython2",
   "version": "3.7.4-final"
  }
 },
 "nbformat": 4,
 "nbformat_minor": 0
}