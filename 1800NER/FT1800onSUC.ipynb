{
  "nbformat": 4,
  "nbformat_minor": 0,
  "metadata": {
    "colab": {
      "name": "FT_1800_on_SUC.ipynb",
      "provenance": [],
      "collapsed_sections": [],
      "machine_shape": "hm"
    },
    "kernelspec": {
      "name": "python3",
      "display_name": "Python 3"
    },
    "accelerator": "GPU",
    "widgets": {
      "application/vnd.jupyter.widget-state+json": {
        "0543de1459514cd98d00c194683fb4e3": {
          "model_module": "@jupyter-widgets/controls",
          "model_name": "HBoxModel",
          "state": {
            "_view_name": "HBoxView",
            "_dom_classes": [],
            "_model_name": "HBoxModel",
            "_view_module": "@jupyter-widgets/controls",
            "_model_module_version": "1.5.0",
            "_view_count": null,
            "_view_module_version": "1.5.0",
            "box_style": "",
            "layout": "IPY_MODEL_630e0ccf3b894ccfbe976f736e34a36c",
            "_model_module": "@jupyter-widgets/controls",
            "children": [
              "IPY_MODEL_8770500d4c4549b9907e5a9e4e7872bc",
              "IPY_MODEL_62bf8025a7c545448528044547223efa"
            ]
          }
        },
        "630e0ccf3b894ccfbe976f736e34a36c": {
          "model_module": "@jupyter-widgets/base",
          "model_name": "LayoutModel",
          "state": {
            "_view_name": "LayoutView",
            "grid_template_rows": null,
            "right": null,
            "justify_content": null,
            "_view_module": "@jupyter-widgets/base",
            "overflow": null,
            "_model_module_version": "1.2.0",
            "_view_count": null,
            "flex_flow": null,
            "width": null,
            "min_width": null,
            "border": null,
            "align_items": null,
            "bottom": null,
            "_model_module": "@jupyter-widgets/base",
            "top": null,
            "grid_column": null,
            "overflow_y": null,
            "overflow_x": null,
            "grid_auto_flow": null,
            "grid_area": null,
            "grid_template_columns": null,
            "flex": null,
            "_model_name": "LayoutModel",
            "justify_items": null,
            "grid_row": null,
            "max_height": null,
            "align_content": null,
            "visibility": null,
            "align_self": null,
            "height": null,
            "min_height": null,
            "padding": null,
            "grid_auto_rows": null,
            "grid_gap": null,
            "max_width": null,
            "order": null,
            "_view_module_version": "1.2.0",
            "grid_template_areas": null,
            "object_position": null,
            "object_fit": null,
            "grid_auto_columns": null,
            "margin": null,
            "display": null,
            "left": null
          }
        },
        "8770500d4c4549b9907e5a9e4e7872bc": {
          "model_module": "@jupyter-widgets/controls",
          "model_name": "FloatProgressModel",
          "state": {
            "_view_name": "ProgressView",
            "style": "IPY_MODEL_06a73281f9884285859a5777f22cb5ae",
            "_dom_classes": [],
            "description": "",
            "_model_name": "FloatProgressModel",
            "bar_style": "info",
            "max": 1,
            "_view_module": "@jupyter-widgets/controls",
            "_model_module_version": "1.5.0",
            "value": 1,
            "_view_count": null,
            "_view_module_version": "1.5.0",
            "orientation": "horizontal",
            "min": 0,
            "description_tooltip": null,
            "_model_module": "@jupyter-widgets/controls",
            "layout": "IPY_MODEL_38bf7ae1b721470ab092284dcf83d7ec"
          }
        },
        "62bf8025a7c545448528044547223efa": {
          "model_module": "@jupyter-widgets/controls",
          "model_name": "HTMLModel",
          "state": {
            "_view_name": "HTMLView",
            "style": "IPY_MODEL_6005886a70f6401dbed07f0f58a6e8d2",
            "_dom_classes": [],
            "description": "",
            "_model_name": "HTMLModel",
            "placeholder": "​",
            "_view_module": "@jupyter-widgets/controls",
            "_model_module_version": "1.5.0",
            "value": " 59397/0 [00:11&lt;00:00, 5662.55 examples/s]",
            "_view_count": null,
            "_view_module_version": "1.5.0",
            "description_tooltip": null,
            "_model_module": "@jupyter-widgets/controls",
            "layout": "IPY_MODEL_25279532538c44cead61a03dcf8d9f3b"
          }
        },
        "06a73281f9884285859a5777f22cb5ae": {
          "model_module": "@jupyter-widgets/controls",
          "model_name": "ProgressStyleModel",
          "state": {
            "_view_name": "StyleView",
            "_model_name": "ProgressStyleModel",
            "description_width": "initial",
            "_view_module": "@jupyter-widgets/base",
            "_model_module_version": "1.5.0",
            "_view_count": null,
            "_view_module_version": "1.2.0",
            "bar_color": null,
            "_model_module": "@jupyter-widgets/controls"
          }
        },
        "38bf7ae1b721470ab092284dcf83d7ec": {
          "model_module": "@jupyter-widgets/base",
          "model_name": "LayoutModel",
          "state": {
            "_view_name": "LayoutView",
            "grid_template_rows": null,
            "right": null,
            "justify_content": null,
            "_view_module": "@jupyter-widgets/base",
            "overflow": null,
            "_model_module_version": "1.2.0",
            "_view_count": null,
            "flex_flow": null,
            "width": null,
            "min_width": null,
            "border": null,
            "align_items": null,
            "bottom": null,
            "_model_module": "@jupyter-widgets/base",
            "top": null,
            "grid_column": null,
            "overflow_y": null,
            "overflow_x": null,
            "grid_auto_flow": null,
            "grid_area": null,
            "grid_template_columns": null,
            "flex": null,
            "_model_name": "LayoutModel",
            "justify_items": null,
            "grid_row": null,
            "max_height": null,
            "align_content": null,
            "visibility": null,
            "align_self": null,
            "height": null,
            "min_height": null,
            "padding": null,
            "grid_auto_rows": null,
            "grid_gap": null,
            "max_width": null,
            "order": null,
            "_view_module_version": "1.2.0",
            "grid_template_areas": null,
            "object_position": null,
            "object_fit": null,
            "grid_auto_columns": null,
            "margin": null,
            "display": null,
            "left": null
          }
        },
        "6005886a70f6401dbed07f0f58a6e8d2": {
          "model_module": "@jupyter-widgets/controls",
          "model_name": "DescriptionStyleModel",
          "state": {
            "_view_name": "StyleView",
            "_model_name": "DescriptionStyleModel",
            "description_width": "",
            "_view_module": "@jupyter-widgets/base",
            "_model_module_version": "1.5.0",
            "_view_count": null,
            "_view_module_version": "1.2.0",
            "_model_module": "@jupyter-widgets/controls"
          }
        },
        "25279532538c44cead61a03dcf8d9f3b": {
          "model_module": "@jupyter-widgets/base",
          "model_name": "LayoutModel",
          "state": {
            "_view_name": "LayoutView",
            "grid_template_rows": null,
            "right": null,
            "justify_content": null,
            "_view_module": "@jupyter-widgets/base",
            "overflow": null,
            "_model_module_version": "1.2.0",
            "_view_count": null,
            "flex_flow": null,
            "width": null,
            "min_width": null,
            "border": null,
            "align_items": null,
            "bottom": null,
            "_model_module": "@jupyter-widgets/base",
            "top": null,
            "grid_column": null,
            "overflow_y": null,
            "overflow_x": null,
            "grid_auto_flow": null,
            "grid_area": null,
            "grid_template_columns": null,
            "flex": null,
            "_model_name": "LayoutModel",
            "justify_items": null,
            "grid_row": null,
            "max_height": null,
            "align_content": null,
            "visibility": null,
            "align_self": null,
            "height": null,
            "min_height": null,
            "padding": null,
            "grid_auto_rows": null,
            "grid_gap": null,
            "max_width": null,
            "order": null,
            "_view_module_version": "1.2.0",
            "grid_template_areas": null,
            "object_position": null,
            "object_fit": null,
            "grid_auto_columns": null,
            "margin": null,
            "display": null,
            "left": null
          }
        },
        "04c32a2930b043118f42d8b6969a3150": {
          "model_module": "@jupyter-widgets/controls",
          "model_name": "HBoxModel",
          "state": {
            "_view_name": "HBoxView",
            "_dom_classes": [],
            "_model_name": "HBoxModel",
            "_view_module": "@jupyter-widgets/controls",
            "_model_module_version": "1.5.0",
            "_view_count": null,
            "_view_module_version": "1.5.0",
            "box_style": "",
            "layout": "IPY_MODEL_259d72adc7c74a549a10c4144a767ebb",
            "_model_module": "@jupyter-widgets/controls",
            "children": [
              "IPY_MODEL_397198686b7a4707a26a1e9b6954e64a",
              "IPY_MODEL_2b8aed3c750041358a2d76082a42ee18"
            ]
          }
        },
        "259d72adc7c74a549a10c4144a767ebb": {
          "model_module": "@jupyter-widgets/base",
          "model_name": "LayoutModel",
          "state": {
            "_view_name": "LayoutView",
            "grid_template_rows": null,
            "right": null,
            "justify_content": null,
            "_view_module": "@jupyter-widgets/base",
            "overflow": null,
            "_model_module_version": "1.2.0",
            "_view_count": null,
            "flex_flow": null,
            "width": null,
            "min_width": null,
            "border": null,
            "align_items": null,
            "bottom": null,
            "_model_module": "@jupyter-widgets/base",
            "top": null,
            "grid_column": null,
            "overflow_y": null,
            "overflow_x": null,
            "grid_auto_flow": null,
            "grid_area": null,
            "grid_template_columns": null,
            "flex": null,
            "_model_name": "LayoutModel",
            "justify_items": null,
            "grid_row": null,
            "max_height": null,
            "align_content": null,
            "visibility": null,
            "align_self": null,
            "height": null,
            "min_height": null,
            "padding": null,
            "grid_auto_rows": null,
            "grid_gap": null,
            "max_width": null,
            "order": null,
            "_view_module_version": "1.2.0",
            "grid_template_areas": null,
            "object_position": null,
            "object_fit": null,
            "grid_auto_columns": null,
            "margin": null,
            "display": null,
            "left": null
          }
        },
        "397198686b7a4707a26a1e9b6954e64a": {
          "model_module": "@jupyter-widgets/controls",
          "model_name": "FloatProgressModel",
          "state": {
            "_view_name": "ProgressView",
            "style": "IPY_MODEL_c10aa092b78649e1b93f0d3072da14e7",
            "_dom_classes": [],
            "description": "",
            "_model_name": "FloatProgressModel",
            "bar_style": "info",
            "max": 1,
            "_view_module": "@jupyter-widgets/controls",
            "_model_module_version": "1.5.0",
            "value": 1,
            "_view_count": null,
            "_view_module_version": "1.5.0",
            "orientation": "horizontal",
            "min": 0,
            "description_tooltip": null,
            "_model_module": "@jupyter-widgets/controls",
            "layout": "IPY_MODEL_d46206db3bc4467faee81cdb683b898c"
          }
        },
        "2b8aed3c750041358a2d76082a42ee18": {
          "model_module": "@jupyter-widgets/controls",
          "model_name": "HTMLModel",
          "state": {
            "_view_name": "HTMLView",
            "style": "IPY_MODEL_c628eab6d1d249a6a532c6a7792559dd",
            "_dom_classes": [],
            "description": "",
            "_model_name": "HTMLModel",
            "placeholder": "​",
            "_view_module": "@jupyter-widgets/controls",
            "_model_module_version": "1.5.0",
            "value": " 14850/0 [00:02&lt;00:00, 5446.70 examples/s]",
            "_view_count": null,
            "_view_module_version": "1.5.0",
            "description_tooltip": null,
            "_model_module": "@jupyter-widgets/controls",
            "layout": "IPY_MODEL_0d8141ba14d942528dfa688f605ece75"
          }
        },
        "c10aa092b78649e1b93f0d3072da14e7": {
          "model_module": "@jupyter-widgets/controls",
          "model_name": "ProgressStyleModel",
          "state": {
            "_view_name": "StyleView",
            "_model_name": "ProgressStyleModel",
            "description_width": "initial",
            "_view_module": "@jupyter-widgets/base",
            "_model_module_version": "1.5.0",
            "_view_count": null,
            "_view_module_version": "1.2.0",
            "bar_color": null,
            "_model_module": "@jupyter-widgets/controls"
          }
        },
        "d46206db3bc4467faee81cdb683b898c": {
          "model_module": "@jupyter-widgets/base",
          "model_name": "LayoutModel",
          "state": {
            "_view_name": "LayoutView",
            "grid_template_rows": null,
            "right": null,
            "justify_content": null,
            "_view_module": "@jupyter-widgets/base",
            "overflow": null,
            "_model_module_version": "1.2.0",
            "_view_count": null,
            "flex_flow": null,
            "width": null,
            "min_width": null,
            "border": null,
            "align_items": null,
            "bottom": null,
            "_model_module": "@jupyter-widgets/base",
            "top": null,
            "grid_column": null,
            "overflow_y": null,
            "overflow_x": null,
            "grid_auto_flow": null,
            "grid_area": null,
            "grid_template_columns": null,
            "flex": null,
            "_model_name": "LayoutModel",
            "justify_items": null,
            "grid_row": null,
            "max_height": null,
            "align_content": null,
            "visibility": null,
            "align_self": null,
            "height": null,
            "min_height": null,
            "padding": null,
            "grid_auto_rows": null,
            "grid_gap": null,
            "max_width": null,
            "order": null,
            "_view_module_version": "1.2.0",
            "grid_template_areas": null,
            "object_position": null,
            "object_fit": null,
            "grid_auto_columns": null,
            "margin": null,
            "display": null,
            "left": null
          }
        },
        "c628eab6d1d249a6a532c6a7792559dd": {
          "model_module": "@jupyter-widgets/controls",
          "model_name": "DescriptionStyleModel",
          "state": {
            "_view_name": "StyleView",
            "_model_name": "DescriptionStyleModel",
            "description_width": "",
            "_view_module": "@jupyter-widgets/base",
            "_model_module_version": "1.5.0",
            "_view_count": null,
            "_view_module_version": "1.2.0",
            "_model_module": "@jupyter-widgets/controls"
          }
        },
        "0d8141ba14d942528dfa688f605ece75": {
          "model_module": "@jupyter-widgets/base",
          "model_name": "LayoutModel",
          "state": {
            "_view_name": "LayoutView",
            "grid_template_rows": null,
            "right": null,
            "justify_content": null,
            "_view_module": "@jupyter-widgets/base",
            "overflow": null,
            "_model_module_version": "1.2.0",
            "_view_count": null,
            "flex_flow": null,
            "width": null,
            "min_width": null,
            "border": null,
            "align_items": null,
            "bottom": null,
            "_model_module": "@jupyter-widgets/base",
            "top": null,
            "grid_column": null,
            "overflow_y": null,
            "overflow_x": null,
            "grid_auto_flow": null,
            "grid_area": null,
            "grid_template_columns": null,
            "flex": null,
            "_model_name": "LayoutModel",
            "justify_items": null,
            "grid_row": null,
            "max_height": null,
            "align_content": null,
            "visibility": null,
            "align_self": null,
            "height": null,
            "min_height": null,
            "padding": null,
            "grid_auto_rows": null,
            "grid_gap": null,
            "max_width": null,
            "order": null,
            "_view_module_version": "1.2.0",
            "grid_template_areas": null,
            "object_position": null,
            "object_fit": null,
            "grid_auto_columns": null,
            "margin": null,
            "display": null,
            "left": null
          }
        },
        "392676d852b04bff941f2cecc142c15a": {
          "model_module": "@jupyter-widgets/controls",
          "model_name": "HBoxModel",
          "state": {
            "_view_name": "HBoxView",
            "_dom_classes": [],
            "_model_name": "HBoxModel",
            "_view_module": "@jupyter-widgets/controls",
            "_model_module_version": "1.5.0",
            "_view_count": null,
            "_view_module_version": "1.5.0",
            "box_style": "",
            "layout": "IPY_MODEL_cba5a475c24849339a8bc6a9e5351dbe",
            "_model_module": "@jupyter-widgets/controls",
            "children": [
              "IPY_MODEL_926ae205767a404ba77e6650dd067a1f",
              "IPY_MODEL_e3ee7fb2020642cea2635c6941857403"
            ]
          }
        },
        "cba5a475c24849339a8bc6a9e5351dbe": {
          "model_module": "@jupyter-widgets/base",
          "model_name": "LayoutModel",
          "state": {
            "_view_name": "LayoutView",
            "grid_template_rows": null,
            "right": null,
            "justify_content": null,
            "_view_module": "@jupyter-widgets/base",
            "overflow": null,
            "_model_module_version": "1.2.0",
            "_view_count": null,
            "flex_flow": null,
            "width": null,
            "min_width": null,
            "border": null,
            "align_items": null,
            "bottom": null,
            "_model_module": "@jupyter-widgets/base",
            "top": null,
            "grid_column": null,
            "overflow_y": null,
            "overflow_x": null,
            "grid_auto_flow": null,
            "grid_area": null,
            "grid_template_columns": null,
            "flex": null,
            "_model_name": "LayoutModel",
            "justify_items": null,
            "grid_row": null,
            "max_height": null,
            "align_content": null,
            "visibility": null,
            "align_self": null,
            "height": null,
            "min_height": null,
            "padding": null,
            "grid_auto_rows": null,
            "grid_gap": null,
            "max_width": null,
            "order": null,
            "_view_module_version": "1.2.0",
            "grid_template_areas": null,
            "object_position": null,
            "object_fit": null,
            "grid_auto_columns": null,
            "margin": null,
            "display": null,
            "left": null
          }
        },
        "926ae205767a404ba77e6650dd067a1f": {
          "model_module": "@jupyter-widgets/controls",
          "model_name": "FloatProgressModel",
          "state": {
            "_view_name": "ProgressView",
            "style": "IPY_MODEL_22790882ff7141b9809dc32ed248f8ab",
            "_dom_classes": [],
            "description": "",
            "_model_name": "FloatProgressModel",
            "bar_style": "info",
            "max": 1,
            "_view_module": "@jupyter-widgets/controls",
            "_model_module_version": "1.5.0",
            "value": 1,
            "_view_count": null,
            "_view_module_version": "1.5.0",
            "orientation": "horizontal",
            "min": 0,
            "description_tooltip": null,
            "_model_module": "@jupyter-widgets/controls",
            "layout": "IPY_MODEL_4742909410c04b098212e655816961a9"
          }
        },
        "e3ee7fb2020642cea2635c6941857403": {
          "model_module": "@jupyter-widgets/controls",
          "model_name": "HTMLModel",
          "state": {
            "_view_name": "HTMLView",
            "style": "IPY_MODEL_64865ac0b3524aefaea8484f80d3d464",
            "_dom_classes": [],
            "description": "",
            "_model_name": "HTMLModel",
            "placeholder": "​",
            "_view_module": "@jupyter-widgets/controls",
            "_model_module_version": "1.5.0",
            "value": " 14850/0 [00:02&lt;00:00, 5500.40 examples/s]",
            "_view_count": null,
            "_view_module_version": "1.5.0",
            "description_tooltip": null,
            "_model_module": "@jupyter-widgets/controls",
            "layout": "IPY_MODEL_e7caf7c9a1ef4f5c995ea0b166717bd5"
          }
        },
        "22790882ff7141b9809dc32ed248f8ab": {
          "model_module": "@jupyter-widgets/controls",
          "model_name": "ProgressStyleModel",
          "state": {
            "_view_name": "StyleView",
            "_model_name": "ProgressStyleModel",
            "description_width": "initial",
            "_view_module": "@jupyter-widgets/base",
            "_model_module_version": "1.5.0",
            "_view_count": null,
            "_view_module_version": "1.2.0",
            "bar_color": null,
            "_model_module": "@jupyter-widgets/controls"
          }
        },
        "4742909410c04b098212e655816961a9": {
          "model_module": "@jupyter-widgets/base",
          "model_name": "LayoutModel",
          "state": {
            "_view_name": "LayoutView",
            "grid_template_rows": null,
            "right": null,
            "justify_content": null,
            "_view_module": "@jupyter-widgets/base",
            "overflow": null,
            "_model_module_version": "1.2.0",
            "_view_count": null,
            "flex_flow": null,
            "width": null,
            "min_width": null,
            "border": null,
            "align_items": null,
            "bottom": null,
            "_model_module": "@jupyter-widgets/base",
            "top": null,
            "grid_column": null,
            "overflow_y": null,
            "overflow_x": null,
            "grid_auto_flow": null,
            "grid_area": null,
            "grid_template_columns": null,
            "flex": null,
            "_model_name": "LayoutModel",
            "justify_items": null,
            "grid_row": null,
            "max_height": null,
            "align_content": null,
            "visibility": null,
            "align_self": null,
            "height": null,
            "min_height": null,
            "padding": null,
            "grid_auto_rows": null,
            "grid_gap": null,
            "max_width": null,
            "order": null,
            "_view_module_version": "1.2.0",
            "grid_template_areas": null,
            "object_position": null,
            "object_fit": null,
            "grid_auto_columns": null,
            "margin": null,
            "display": null,
            "left": null
          }
        },
        "64865ac0b3524aefaea8484f80d3d464": {
          "model_module": "@jupyter-widgets/controls",
          "model_name": "DescriptionStyleModel",
          "state": {
            "_view_name": "StyleView",
            "_model_name": "DescriptionStyleModel",
            "description_width": "",
            "_view_module": "@jupyter-widgets/base",
            "_model_module_version": "1.5.0",
            "_view_count": null,
            "_view_module_version": "1.2.0",
            "_model_module": "@jupyter-widgets/controls"
          }
        },
        "e7caf7c9a1ef4f5c995ea0b166717bd5": {
          "model_module": "@jupyter-widgets/base",
          "model_name": "LayoutModel",
          "state": {
            "_view_name": "LayoutView",
            "grid_template_rows": null,
            "right": null,
            "justify_content": null,
            "_view_module": "@jupyter-widgets/base",
            "overflow": null,
            "_model_module_version": "1.2.0",
            "_view_count": null,
            "flex_flow": null,
            "width": null,
            "min_width": null,
            "border": null,
            "align_items": null,
            "bottom": null,
            "_model_module": "@jupyter-widgets/base",
            "top": null,
            "grid_column": null,
            "overflow_y": null,
            "overflow_x": null,
            "grid_auto_flow": null,
            "grid_area": null,
            "grid_template_columns": null,
            "flex": null,
            "_model_name": "LayoutModel",
            "justify_items": null,
            "grid_row": null,
            "max_height": null,
            "align_content": null,
            "visibility": null,
            "align_self": null,
            "height": null,
            "min_height": null,
            "padding": null,
            "grid_auto_rows": null,
            "grid_gap": null,
            "max_width": null,
            "order": null,
            "_view_module_version": "1.2.0",
            "grid_template_areas": null,
            "object_position": null,
            "object_fit": null,
            "grid_auto_columns": null,
            "margin": null,
            "display": null,
            "left": null
          }
        }
      }
    }
  },
  "cells": [
    {
      "cell_type": "code",
      "metadata": {
        "colab": {
          "base_uri": "https://localhost:8080/"
        },
        "id": "BAXjju9kMqrz",
        "outputId": "b3a4e0dc-f989-4acf-f25c-13c9eab295d6"
      },
      "source": [
        "!pip install datasets"
      ],
      "execution_count": null,
      "outputs": [
        {
          "output_type": "stream",
          "text": [
            "Requirement already satisfied: datasets in /usr/local/lib/python3.6/dist-packages (1.1.3)\n",
            "Requirement already satisfied: xxhash in /usr/local/lib/python3.6/dist-packages (from datasets) (2.0.0)\n",
            "Requirement already satisfied: requests>=2.19.0 in /usr/local/lib/python3.6/dist-packages (from datasets) (2.23.0)\n",
            "Requirement already satisfied: dataclasses; python_version < \"3.7\" in /usr/local/lib/python3.6/dist-packages (from datasets) (0.8)\n",
            "Requirement already satisfied: pyarrow>=0.17.1 in /usr/local/lib/python3.6/dist-packages (from datasets) (2.0.0)\n",
            "Requirement already satisfied: dill in /usr/local/lib/python3.6/dist-packages (from datasets) (0.3.3)\n",
            "Requirement already satisfied: multiprocess in /usr/local/lib/python3.6/dist-packages (from datasets) (0.70.11.1)\n",
            "Requirement already satisfied: numpy>=1.17 in /usr/local/lib/python3.6/dist-packages (from datasets) (1.18.5)\n",
            "Requirement already satisfied: tqdm<4.50.0,>=4.27 in /usr/local/lib/python3.6/dist-packages (from datasets) (4.41.1)\n",
            "Requirement already satisfied: pandas in /usr/local/lib/python3.6/dist-packages (from datasets) (1.1.5)\n",
            "Requirement already satisfied: idna<3,>=2.5 in /usr/local/lib/python3.6/dist-packages (from requests>=2.19.0->datasets) (2.10)\n",
            "Requirement already satisfied: urllib3!=1.25.0,!=1.25.1,<1.26,>=1.21.1 in /usr/local/lib/python3.6/dist-packages (from requests>=2.19.0->datasets) (1.24.3)\n",
            "Requirement already satisfied: certifi>=2017.4.17 in /usr/local/lib/python3.6/dist-packages (from requests>=2.19.0->datasets) (2020.12.5)\n",
            "Requirement already satisfied: chardet<4,>=3.0.2 in /usr/local/lib/python3.6/dist-packages (from requests>=2.19.0->datasets) (3.0.4)\n",
            "Requirement already satisfied: python-dateutil>=2.7.3 in /usr/local/lib/python3.6/dist-packages (from pandas->datasets) (2.8.1)\n",
            "Requirement already satisfied: pytz>=2017.2 in /usr/local/lib/python3.6/dist-packages (from pandas->datasets) (2018.9)\n",
            "Requirement already satisfied: six>=1.5 in /usr/local/lib/python3.6/dist-packages (from python-dateutil>=2.7.3->pandas->datasets) (1.15.0)\n"
          ],
          "name": "stdout"
        }
      ]
    },
    {
      "cell_type": "code",
      "metadata": {
        "id": "0R5PeBV9yttZ",
        "colab": {
          "base_uri": "https://localhost:8080/"
        },
        "outputId": "7768c665-cbe2-460a-c6de-876a57a3f2b1"
      },
      "source": [
        "from google.colab import drive\n",
        "drive.mount('/content/drive')"
      ],
      "execution_count": null,
      "outputs": [
        {
          "output_type": "stream",
          "text": [
            "Drive already mounted at /content/drive; to attempt to forcibly remount, call drive.mount(\"/content/drive\", force_remount=True).\n"
          ],
          "name": "stdout"
        }
      ]
    },
    {
      "cell_type": "code",
      "metadata": {
        "colab": {
          "base_uri": "https://localhost:8080/"
        },
        "id": "2sdJzjbYMmk6",
        "outputId": "1dee76de-f442-446c-95f3-d0bc101272cc"
      },
      "source": [
        "!pip install seqeval"
      ],
      "execution_count": null,
      "outputs": [
        {
          "output_type": "stream",
          "text": [
            "Requirement already satisfied: seqeval in /usr/local/lib/python3.6/dist-packages (1.2.2)\n",
            "Requirement already satisfied: numpy>=1.14.0 in /usr/local/lib/python3.6/dist-packages (from seqeval) (1.18.5)\n",
            "Requirement already satisfied: scikit-learn>=0.21.3 in /usr/local/lib/python3.6/dist-packages (from seqeval) (0.22.2.post1)\n",
            "Requirement already satisfied: scipy>=0.17.0 in /usr/local/lib/python3.6/dist-packages (from scikit-learn>=0.21.3->seqeval) (1.4.1)\n",
            "Requirement already satisfied: joblib>=0.11 in /usr/local/lib/python3.6/dist-packages (from scikit-learn>=0.21.3->seqeval) (0.17.0)\n"
          ],
          "name": "stdout"
        }
      ]
    },
    {
      "cell_type": "code",
      "metadata": {
        "colab": {
          "base_uri": "https://localhost:8080/"
        },
        "id": "bERRGuT6M4ut",
        "outputId": "ec16d763-9197-485f-ba13-d6210391a2a3"
      },
      "source": [
        "!pip install transformers"
      ],
      "execution_count": null,
      "outputs": [
        {
          "output_type": "stream",
          "text": [
            "Requirement already satisfied: transformers in /usr/local/lib/python3.6/dist-packages (4.0.1)\n",
            "Requirement already satisfied: dataclasses; python_version < \"3.7\" in /usr/local/lib/python3.6/dist-packages (from transformers) (0.8)\n",
            "Requirement already satisfied: filelock in /usr/local/lib/python3.6/dist-packages (from transformers) (3.0.12)\n",
            "Requirement already satisfied: packaging in /usr/local/lib/python3.6/dist-packages (from transformers) (20.7)\n",
            "Requirement already satisfied: numpy in /usr/local/lib/python3.6/dist-packages (from transformers) (1.18.5)\n",
            "Requirement already satisfied: tokenizers==0.9.4 in /usr/local/lib/python3.6/dist-packages (from transformers) (0.9.4)\n",
            "Requirement already satisfied: requests in /usr/local/lib/python3.6/dist-packages (from transformers) (2.23.0)\n",
            "Requirement already satisfied: regex!=2019.12.17 in /usr/local/lib/python3.6/dist-packages (from transformers) (2019.12.20)\n",
            "Requirement already satisfied: tqdm>=4.27 in /usr/local/lib/python3.6/dist-packages (from transformers) (4.41.1)\n",
            "Requirement already satisfied: sacremoses in /usr/local/lib/python3.6/dist-packages (from transformers) (0.0.43)\n",
            "Requirement already satisfied: pyparsing>=2.0.2 in /usr/local/lib/python3.6/dist-packages (from packaging->transformers) (2.4.7)\n",
            "Requirement already satisfied: chardet<4,>=3.0.2 in /usr/local/lib/python3.6/dist-packages (from requests->transformers) (3.0.4)\n",
            "Requirement already satisfied: idna<3,>=2.5 in /usr/local/lib/python3.6/dist-packages (from requests->transformers) (2.10)\n",
            "Requirement already satisfied: certifi>=2017.4.17 in /usr/local/lib/python3.6/dist-packages (from requests->transformers) (2020.12.5)\n",
            "Requirement already satisfied: urllib3!=1.25.0,!=1.25.1,<1.26,>=1.21.1 in /usr/local/lib/python3.6/dist-packages (from requests->transformers) (1.24.3)\n",
            "Requirement already satisfied: click in /usr/local/lib/python3.6/dist-packages (from sacremoses->transformers) (7.1.2)\n",
            "Requirement already satisfied: joblib in /usr/local/lib/python3.6/dist-packages (from sacremoses->transformers) (0.17.0)\n",
            "Requirement already satisfied: six in /usr/local/lib/python3.6/dist-packages (from sacremoses->transformers) (1.15.0)\n"
          ],
          "name": "stdout"
        }
      ]
    },
    {
      "cell_type": "code",
      "metadata": {
        "id": "RMGbvvlzvh7u"
      },
      "source": [
        "from datasets import load_dataset"
      ],
      "execution_count": null,
      "outputs": []
    },
    {
      "cell_type": "code",
      "metadata": {
        "colab": {
          "base_uri": "https://localhost:8080/",
          "height": 88,
          "referenced_widgets": [
            "0543de1459514cd98d00c194683fb4e3",
            "630e0ccf3b894ccfbe976f736e34a36c",
            "8770500d4c4549b9907e5a9e4e7872bc",
            "62bf8025a7c545448528044547223efa",
            "06a73281f9884285859a5777f22cb5ae",
            "38bf7ae1b721470ab092284dcf83d7ec",
            "6005886a70f6401dbed07f0f58a6e8d2",
            "25279532538c44cead61a03dcf8d9f3b",
            "04c32a2930b043118f42d8b6969a3150",
            "259d72adc7c74a549a10c4144a767ebb",
            "397198686b7a4707a26a1e9b6954e64a",
            "2b8aed3c750041358a2d76082a42ee18",
            "c10aa092b78649e1b93f0d3072da14e7",
            "d46206db3bc4467faee81cdb683b898c",
            "c628eab6d1d249a6a532c6a7792559dd",
            "0d8141ba14d942528dfa688f605ece75",
            "392676d852b04bff941f2cecc142c15a",
            "cba5a475c24849339a8bc6a9e5351dbe",
            "926ae205767a404ba77e6650dd067a1f",
            "e3ee7fb2020642cea2635c6941857403",
            "22790882ff7141b9809dc32ed248f8ab",
            "4742909410c04b098212e655816961a9",
            "64865ac0b3524aefaea8484f80d3d464",
            "e7caf7c9a1ef4f5c995ea0b166717bd5"
          ]
        },
        "id": "WQzXOs-CvaQr",
        "outputId": "50d49ec9-344b-4bdb-8dc4-d0c5ec222070"
      },
      "source": [
        "datasets = load_dataset('/content/drive/MyDrive/Riksarkivet/1800-talsner/FTonSUC/conll2003.py', data_files='/content/drive/MyDrive/Riksarkivet/1800-talsner/SUC3testIOB2.txt')"
      ],
      "execution_count": null,
      "outputs": [
        {
          "output_type": "stream",
          "text": [
            "Using custom data configuration default\n"
          ],
          "name": "stderr"
        },
        {
          "output_type": "stream",
          "text": [
            "Downloading and preparing dataset conll2003/default-ce8dea669d70c828 (download: Unknown size, generated: Unknown size, post-processed: Unknown size, total: Unknown size) to /root/.cache/huggingface/datasets/conll2003/default-ce8dea669d70c828/0.0.0/fec7475b8bcadc87364ed9a2cc4dad9f480b480f2213f6fa786dbd7aa4930840...\n"
          ],
          "name": "stdout"
        },
        {
          "output_type": "display_data",
          "data": {
            "application/vnd.jupyter.widget-view+json": {
              "model_id": "0543de1459514cd98d00c194683fb4e3",
              "version_minor": 0,
              "version_major": 2
            },
            "text/plain": [
              "HBox(children=(FloatProgress(value=1.0, bar_style='info', max=1.0), HTML(value='')))"
            ]
          },
          "metadata": {
            "tags": []
          }
        },
        {
          "output_type": "stream",
          "text": [
            "\r"
          ],
          "name": "stdout"
        },
        {
          "output_type": "display_data",
          "data": {
            "application/vnd.jupyter.widget-view+json": {
              "model_id": "04c32a2930b043118f42d8b6969a3150",
              "version_minor": 0,
              "version_major": 2
            },
            "text/plain": [
              "HBox(children=(FloatProgress(value=1.0, bar_style='info', max=1.0), HTML(value='')))"
            ]
          },
          "metadata": {
            "tags": []
          }
        },
        {
          "output_type": "stream",
          "text": [
            "\r"
          ],
          "name": "stdout"
        },
        {
          "output_type": "display_data",
          "data": {
            "application/vnd.jupyter.widget-view+json": {
              "model_id": "392676d852b04bff941f2cecc142c15a",
              "version_minor": 0,
              "version_major": 2
            },
            "text/plain": [
              "HBox(children=(FloatProgress(value=1.0, bar_style='info', max=1.0), HTML(value='')))"
            ]
          },
          "metadata": {
            "tags": []
          }
        },
        {
          "output_type": "stream",
          "text": [
            "\rDataset conll2003 downloaded and prepared to /root/.cache/huggingface/datasets/conll2003/default-ce8dea669d70c828/0.0.0/fec7475b8bcadc87364ed9a2cc4dad9f480b480f2213f6fa786dbd7aa4930840. Subsequent calls will reuse this data.\n"
          ],
          "name": "stdout"
        }
      ]
    },
    {
      "cell_type": "code",
      "metadata": {
        "colab": {
          "base_uri": "https://localhost:8080/"
        },
        "id": "lG5zG7MBwYaK",
        "outputId": "5d7244b1-070d-4849-a31e-fdf80584820d"
      },
      "source": [
        "datasets['train'].features"
      ],
      "execution_count": null,
      "outputs": [
        {
          "output_type": "execute_result",
          "data": {
            "text/plain": [
              "{'chunk_tags': Sequence(feature=ClassLabel(num_classes=1, names=['-'], names_file=None, id=None), length=-1, id=None),\n",
              " 'id': Value(dtype='string', id=None),\n",
              " 'ner_tags': Sequence(feature=ClassLabel(num_classes=13, names=['O', 'B-PRS', 'I-PRS', 'B-ORG', 'I-ORG', 'B-LOC', 'I-LOC', 'B-TME', 'I-TME', 'B-MSR', 'I-MSR', 'B-WRK', 'I-WRK'], names_file=None, id=None), length=-1, id=None),\n",
              " 'pos_tags': Sequence(feature=ClassLabel(num_classes=1, names=['-'], names_file=None, id=None), length=-1, id=None),\n",
              " 'tokens': Sequence(feature=Value(dtype='string', id=None), length=-1, id=None)}"
            ]
          },
          "metadata": {
            "tags": []
          },
          "execution_count": 9
        }
      ]
    },
    {
      "cell_type": "code",
      "metadata": {
        "colab": {
          "base_uri": "https://localhost:8080/"
        },
        "id": "WEwb_o9Jv4Ay",
        "outputId": "0ee36123-28f0-40f2-ec42-a8ba7ced38ac"
      },
      "source": [
        "datasets['train'].features['ner_tags'].feature.names"
      ],
      "execution_count": null,
      "outputs": [
        {
          "output_type": "execute_result",
          "data": {
            "text/plain": [
              "['O',\n",
              " 'B-PRS',\n",
              " 'I-PRS',\n",
              " 'B-ORG',\n",
              " 'I-ORG',\n",
              " 'B-LOC',\n",
              " 'I-LOC',\n",
              " 'B-TME',\n",
              " 'I-TME',\n",
              " 'B-MSR',\n",
              " 'I-MSR',\n",
              " 'B-WRK',\n",
              " 'I-WRK']"
            ]
          },
          "metadata": {
            "tags": []
          },
          "execution_count": 10
        }
      ]
    },
    {
      "cell_type": "code",
      "metadata": {
        "colab": {
          "base_uri": "https://localhost:8080/"
        },
        "id": "k8kJa6KCKwDF",
        "outputId": "6eda79f0-d89f-4c5f-c5ff-f149e23e6ef5"
      },
      "source": [
        "!python3 /content/drive/MyDrive/Riksarkivet/1800-talsner/FTonSUC/run_ner.py --model_name_or_path /content/drive/MyDrive/Riksarkivet/1800-talsner/Models/1800Bert/checkpoint-140000 --output_dir /content/drive/MyDrive/Riksarkivet/1800-talsner/Models/NER1800_5_ep --dataset_name /content/drive/MyDrive/Riksarkivet/1800-talsner/FTonSUC/conll2003.py --num_train_epochs 5 --tokenizer_name /content/drive/MyDrive/Riksarkivet/1800-talsner/Models/1800Bert/checkpoint-140000 --per_gpu_train_batch_size 16 --save_steps 5000 --seed 1 --do_train --do_eval --do_predict"
      ],
      "execution_count": null,
      "outputs": [
        {
          "output_type": "stream",
          "text": [
            "2020-12-14 11:03:16.223385: I tensorflow/stream_executor/platform/default/dso_loader.cc:48] Successfully opened dynamic library libcudart.so.10.1\n",
            "12/14/2020 11:03:18 - WARNING - __main__ -   Process rank: -1, device: cuda:0, n_gpu: 1distributed training: False, 16-bits training: False\n",
            "12/14/2020 11:03:18 - INFO - __main__ -   Training/evaluation parameters TrainingArguments(output_dir='/content/drive/MyDrive/Riksarkivet/1800-talsner/Models/NER1800_5_ep', overwrite_output_dir=False, do_train=True, do_eval=True, do_predict=True, evaluation_strategy=<EvaluationStrategy.NO: 'no'>, prediction_loss_only=False, per_device_train_batch_size=8, per_device_eval_batch_size=8, per_gpu_train_batch_size=16, per_gpu_eval_batch_size=None, gradient_accumulation_steps=1, eval_accumulation_steps=None, learning_rate=5e-05, weight_decay=0.0, adam_beta1=0.9, adam_beta2=0.999, adam_epsilon=1e-08, max_grad_norm=1.0, num_train_epochs=5.0, max_steps=-1, warmup_steps=0, logging_dir='runs/Dec14_11-03-18_911c6105df17', logging_first_step=False, logging_steps=500, save_steps=5000, save_total_limit=None, no_cuda=False, seed=1, fp16=False, fp16_opt_level='O1', local_rank=-1, tpu_num_cores=None, tpu_metrics_debug=False, debug=False, dataloader_drop_last=False, eval_steps=500, dataloader_num_workers=0, past_index=-1, run_name='/content/drive/MyDrive/Riksarkivet/1800-talsner/Models/NER1800_5_ep', disable_tqdm=False, remove_unused_columns=True, label_names=None, load_best_model_at_end=False, metric_for_best_model=None, greater_is_better=None)\n",
            "Reusing dataset conll2003 (/root/.cache/huggingface/datasets/conll2003/conll2003/1.0.0/fec7475b8bcadc87364ed9a2cc4dad9f480b480f2213f6fa786dbd7aa4930840)\n",
            "[INFO|configuration_utils.py:409] 2020-12-14 11:03:18,354 >> loading configuration file /content/drive/MyDrive/Riksarkivet/1800-talsner/Models/1800Bert/checkpoint-140000/config.json\n",
            "[INFO|configuration_utils.py:447] 2020-12-14 11:03:18,354 >> Model config BertConfig {\n",
            "  \"_name_or_path\": \"KB/bert-base-swedish-cased\",\n",
            "  \"architectures\": [\n",
            "    \"BertForMaskedLM\"\n",
            "  ],\n",
            "  \"attention_probs_dropout_prob\": 0.1,\n",
            "  \"finetuning_task\": \"ner\",\n",
            "  \"gradient_checkpointing\": false,\n",
            "  \"hidden_act\": \"gelu\",\n",
            "  \"hidden_dropout_prob\": 0.1,\n",
            "  \"hidden_size\": 768,\n",
            "  \"id2label\": {\n",
            "    \"0\": \"LABEL_0\",\n",
            "    \"1\": \"LABEL_1\",\n",
            "    \"2\": \"LABEL_2\",\n",
            "    \"3\": \"LABEL_3\",\n",
            "    \"4\": \"LABEL_4\",\n",
            "    \"5\": \"LABEL_5\",\n",
            "    \"6\": \"LABEL_6\",\n",
            "    \"7\": \"LABEL_7\",\n",
            "    \"8\": \"LABEL_8\",\n",
            "    \"9\": \"LABEL_9\",\n",
            "    \"10\": \"LABEL_10\",\n",
            "    \"11\": \"LABEL_11\",\n",
            "    \"12\": \"LABEL_12\"\n",
            "  },\n",
            "  \"initializer_range\": 0.02,\n",
            "  \"intermediate_size\": 3072,\n",
            "  \"label2id\": {\n",
            "    \"LABEL_0\": 0,\n",
            "    \"LABEL_1\": 1,\n",
            "    \"LABEL_10\": 10,\n",
            "    \"LABEL_11\": 11,\n",
            "    \"LABEL_12\": 12,\n",
            "    \"LABEL_2\": 2,\n",
            "    \"LABEL_3\": 3,\n",
            "    \"LABEL_4\": 4,\n",
            "    \"LABEL_5\": 5,\n",
            "    \"LABEL_6\": 6,\n",
            "    \"LABEL_7\": 7,\n",
            "    \"LABEL_8\": 8,\n",
            "    \"LABEL_9\": 9\n",
            "  },\n",
            "  \"layer_norm_eps\": 1e-12,\n",
            "  \"max_position_embeddings\": 512,\n",
            "  \"model_type\": \"bert\",\n",
            "  \"num_attention_heads\": 12,\n",
            "  \"num_hidden_layers\": 12,\n",
            "  \"output_past\": true,\n",
            "  \"pad_token_id\": 0,\n",
            "  \"type_vocab_size\": 2,\n",
            "  \"vocab_size\": 50325\n",
            "}\n",
            "\n",
            "[INFO|configuration_utils.py:409] 2020-12-14 11:03:18,356 >> loading configuration file /content/drive/MyDrive/Riksarkivet/1800-talsner/Models/1800Bert/checkpoint-140000/config.json\n",
            "[INFO|configuration_utils.py:447] 2020-12-14 11:03:18,357 >> Model config BertConfig {\n",
            "  \"_name_or_path\": \"KB/bert-base-swedish-cased\",\n",
            "  \"architectures\": [\n",
            "    \"BertForMaskedLM\"\n",
            "  ],\n",
            "  \"attention_probs_dropout_prob\": 0.1,\n",
            "  \"gradient_checkpointing\": false,\n",
            "  \"hidden_act\": \"gelu\",\n",
            "  \"hidden_dropout_prob\": 0.1,\n",
            "  \"hidden_size\": 768,\n",
            "  \"initializer_range\": 0.02,\n",
            "  \"intermediate_size\": 3072,\n",
            "  \"layer_norm_eps\": 1e-12,\n",
            "  \"max_position_embeddings\": 512,\n",
            "  \"model_type\": \"bert\",\n",
            "  \"num_attention_heads\": 12,\n",
            "  \"num_hidden_layers\": 12,\n",
            "  \"output_past\": true,\n",
            "  \"pad_token_id\": 0,\n",
            "  \"type_vocab_size\": 2,\n",
            "  \"vocab_size\": 50325\n",
            "}\n",
            "\n",
            "[INFO|tokenization_utils_base.py:1688] 2020-12-14 11:03:18,357 >> Model name '/content/drive/MyDrive/Riksarkivet/1800-talsner/Models/1800Bert/checkpoint-140000' not found in model shortcut name list (bert-base-uncased, bert-large-uncased, bert-base-cased, bert-large-cased, bert-base-multilingual-uncased, bert-base-multilingual-cased, bert-base-chinese, bert-base-german-cased, bert-large-uncased-whole-word-masking, bert-large-cased-whole-word-masking, bert-large-uncased-whole-word-masking-finetuned-squad, bert-large-cased-whole-word-masking-finetuned-squad, bert-base-cased-finetuned-mrpc, bert-base-german-dbmdz-cased, bert-base-german-dbmdz-uncased, TurkuNLP/bert-base-finnish-cased-v1, TurkuNLP/bert-base-finnish-uncased-v1, wietsedv/bert-base-dutch-cased). Assuming '/content/drive/MyDrive/Riksarkivet/1800-talsner/Models/1800Bert/checkpoint-140000' is a path, a model identifier, or url to a directory containing tokenizer files.\n",
            "[INFO|tokenization_utils_base.py:1721] 2020-12-14 11:03:18,358 >> Didn't find file /content/drive/MyDrive/Riksarkivet/1800-talsner/Models/1800Bert/checkpoint-140000/tokenizer.json. We won't load it.\n",
            "[INFO|tokenization_utils_base.py:1721] 2020-12-14 11:03:18,359 >> Didn't find file /content/drive/MyDrive/Riksarkivet/1800-talsner/Models/1800Bert/checkpoint-140000/added_tokens.json. We won't load it.\n",
            "[INFO|tokenization_utils_base.py:1766] 2020-12-14 11:03:18,361 >> loading file /content/drive/MyDrive/Riksarkivet/1800-talsner/Models/1800Bert/checkpoint-140000/vocab.txt\n",
            "[INFO|tokenization_utils_base.py:1766] 2020-12-14 11:03:18,361 >> loading file None\n",
            "[INFO|tokenization_utils_base.py:1766] 2020-12-14 11:03:18,361 >> loading file None\n",
            "[INFO|tokenization_utils_base.py:1766] 2020-12-14 11:03:18,361 >> loading file /content/drive/MyDrive/Riksarkivet/1800-talsner/Models/1800Bert/checkpoint-140000/special_tokens_map.json\n",
            "[INFO|tokenization_utils_base.py:1766] 2020-12-14 11:03:18,361 >> loading file /content/drive/MyDrive/Riksarkivet/1800-talsner/Models/1800Bert/checkpoint-140000/tokenizer_config.json\n",
            "[INFO|modeling_utils.py:938] 2020-12-14 11:03:18,447 >> loading weights file /content/drive/MyDrive/Riksarkivet/1800-talsner/Models/1800Bert/checkpoint-140000/pytorch_model.bin\n",
            "[WARNING|modeling_utils.py:1048] 2020-12-14 11:03:23,790 >> Some weights of the model checkpoint at /content/drive/MyDrive/Riksarkivet/1800-talsner/Models/1800Bert/checkpoint-140000 were not used when initializing BertForTokenClassification: ['cls.predictions.bias', 'cls.predictions.transform.dense.weight', 'cls.predictions.transform.dense.bias', 'cls.predictions.transform.LayerNorm.weight', 'cls.predictions.transform.LayerNorm.bias', 'cls.predictions.decoder.weight', 'cls.predictions.decoder.bias']\n",
            "- This IS expected if you are initializing BertForTokenClassification from the checkpoint of a model trained on another task or with another architecture (e.g. initializing a BertForSequenceClassification model from a BertForPreTraining model).\n",
            "- This IS NOT expected if you are initializing BertForTokenClassification from the checkpoint of a model that you expect to be exactly identical (initializing a BertForSequenceClassification model from a BertForSequenceClassification model).\n",
            "[WARNING|modeling_utils.py:1059] 2020-12-14 11:03:23,790 >> Some weights of BertForTokenClassification were not initialized from the model checkpoint at /content/drive/MyDrive/Riksarkivet/1800-talsner/Models/1800Bert/checkpoint-140000 and are newly initialized: ['classifier.weight', 'classifier.bias']\n",
            "You should probably TRAIN this model on a down-stream task to be able to use it for predictions and inference.\n",
            "[WARNING|tokenization_utils_base.py:2205] 2020-12-14 11:03:23,792 >> Asking to truncate to max_length but no maximum length is provided and the model has no predefined maximum length. Default to no truncation.\n",
            "Loading cached processed dataset at /root/.cache/huggingface/datasets/conll2003/conll2003/1.0.0/fec7475b8bcadc87364ed9a2cc4dad9f480b480f2213f6fa786dbd7aa4930840/cache-d2eb4395ce5867ad.arrow\n",
            "Loading cached processed dataset at /root/.cache/huggingface/datasets/conll2003/conll2003/1.0.0/fec7475b8bcadc87364ed9a2cc4dad9f480b480f2213f6fa786dbd7aa4930840/cache-a2a3a0309f658939.arrow\n",
            "Loading cached processed dataset at /root/.cache/huggingface/datasets/conll2003/conll2003/1.0.0/fec7475b8bcadc87364ed9a2cc4dad9f480b480f2213f6fa786dbd7aa4930840/cache-3f37beac423ed20b.arrow\n",
            "[INFO|trainer.py:357] 2020-12-14 11:03:28,254 >> The following columns in the training set don't have a corresponding argument in `BertForTokenClassification.forward` and have been ignored: pos_tags, tokens, id, ner_tags, chunk_tags.\n",
            "[INFO|trainer.py:357] 2020-12-14 11:03:28,255 >> The following columns in the evaluation set don't have a corresponding argument in `BertForTokenClassification.forward` and have been ignored: pos_tags, tokens, id, ner_tags, chunk_tags.\n",
            "[WARNING|training_args.py:365] 2020-12-14 11:03:28,256 >> Using deprecated `--per_gpu_train_batch_size` argument which will be removed in a future version. Using `--per_device_train_batch_size` is preferred.\n",
            "[WARNING|training_args.py:365] 2020-12-14 11:03:28,261 >> Using deprecated `--per_gpu_train_batch_size` argument which will be removed in a future version. Using `--per_device_train_batch_size` is preferred.\n",
            "[INFO|trainer.py:662] 2020-12-14 11:03:28,261 >> ***** Running training *****\n",
            "[INFO|trainer.py:663] 2020-12-14 11:03:28,261 >>   Num examples = 59397\n",
            "[INFO|trainer.py:664] 2020-12-14 11:03:28,261 >>   Num Epochs = 5\n",
            "[INFO|trainer.py:665] 2020-12-14 11:03:28,261 >>   Instantaneous batch size per device = 8\n",
            "[INFO|trainer.py:666] 2020-12-14 11:03:28,261 >>   Total train batch size (w. parallel, distributed & accumulation) = 16\n",
            "[INFO|trainer.py:667] 2020-12-14 11:03:28,261 >>   Gradient Accumulation steps = 1\n",
            "[INFO|trainer.py:668] 2020-12-14 11:03:28,262 >>   Total optimization steps = 18565\n",
            "[WARNING|training_args.py:365] 2020-12-14 11:03:28,267 >> Using deprecated `--per_gpu_train_batch_size` argument which will be removed in a future version. Using `--per_device_train_batch_size` is preferred.\n",
            "{'loss': 0.16397808837890626, 'learning_rate': 4.8653380016159447e-05, 'epoch': 0.13466199838405601}\n",
            "{'loss': 0.0725553970336914, 'learning_rate': 4.7306760032318884e-05, 'epoch': 0.26932399676811203}\n",
            "{'loss': 0.0605428466796875, 'learning_rate': 4.596014004847832e-05, 'epoch': 0.40398599515216804}\n",
            "{'loss': 0.054166385650634766, 'learning_rate': 4.461352006463776e-05, 'epoch': 0.5386479935362241}\n",
            "{'loss': 0.0531085090637207, 'learning_rate': 4.32669000807972e-05, 'epoch': 0.6733099919202801}\n",
            "{'loss': 0.0482223892211914, 'learning_rate': 4.192028009695664e-05, 'epoch': 0.8079719903043361}\n",
            "{'loss': 0.04497365951538086, 'learning_rate': 4.057366011311608e-05, 'epoch': 0.9426339886883921}\n",
            "{'loss': 0.031239336013793945, 'learning_rate': 3.922704012927552e-05, 'epoch': 1.0772959870724481}\n",
            "{'loss': 0.026785917282104492, 'learning_rate': 3.788042014543496e-05, 'epoch': 1.2119579854565041}\n",
            "{'loss': 0.027197523117065428, 'learning_rate': 3.6533800161594404e-05, 'epoch': 1.3466199838405601}\n",
            " 27% 5000/18565 [11:41<34:51,  6.49it/s][INFO|trainer.py:1162] 2020-12-14 11:15:09,883 >> Saving model checkpoint to /content/drive/MyDrive/Riksarkivet/1800-talsner/Models/NER1800_5_ep/checkpoint-5000\n",
            "[INFO|configuration_utils.py:281] 2020-12-14 11:15:09,890 >> Configuration saved in /content/drive/MyDrive/Riksarkivet/1800-talsner/Models/NER1800_5_ep/checkpoint-5000/config.json\n",
            "[INFO|modeling_utils.py:741] 2020-12-14 11:15:12,979 >> Model weights saved in /content/drive/MyDrive/Riksarkivet/1800-talsner/Models/NER1800_5_ep/checkpoint-5000/pytorch_model.bin\n",
            "{'loss': 0.02730764389038086, 'learning_rate': 3.5187180177753834e-05, 'epoch': 1.4812819822246162}\n",
            "{'loss': 0.02636823081970215, 'learning_rate': 3.384056019391328e-05, 'epoch': 1.6159439806086722}\n",
            "{'loss': 0.024298526763916015, 'learning_rate': 3.249394021007272e-05, 'epoch': 1.7506059789927284}\n",
            "{'loss': 0.0255068416595459, 'learning_rate': 3.114732022623216e-05, 'epoch': 1.8852679773767842}\n",
            "{'loss': 0.023005762100219727, 'learning_rate': 2.98007002423916e-05, 'epoch': 2.0199299757608404}\n",
            "{'loss': 0.011451412200927734, 'learning_rate': 2.8454080258551035e-05, 'epoch': 2.1545919741448962}\n",
            "{'loss': 0.012969981193542481, 'learning_rate': 2.710746027471048e-05, 'epoch': 2.2892539725289525}\n",
            "{'loss': 0.011689070701599122, 'learning_rate': 2.576084029086992e-05, 'epoch': 2.4239159709130083}\n",
            "{'loss': 0.013378232955932616, 'learning_rate': 2.4414220307029357e-05, 'epoch': 2.5585779692970645}\n",
            "{'loss': 0.011708355903625489, 'learning_rate': 2.3067600323188798e-05, 'epoch': 2.6932399676811203}\n",
            " 54% 10000/18565 [23:23<23:13,  6.14it/s][INFO|trainer.py:1162] 2020-12-14 11:26:51,344 >> Saving model checkpoint to /content/drive/MyDrive/Riksarkivet/1800-talsner/Models/NER1800_5_ep/checkpoint-10000\n",
            "[INFO|configuration_utils.py:281] 2020-12-14 11:26:51,350 >> Configuration saved in /content/drive/MyDrive/Riksarkivet/1800-talsner/Models/NER1800_5_ep/checkpoint-10000/config.json\n",
            "[INFO|modeling_utils.py:741] 2020-12-14 11:26:54,498 >> Model weights saved in /content/drive/MyDrive/Riksarkivet/1800-talsner/Models/NER1800_5_ep/checkpoint-10000/pytorch_model.bin\n",
            "{'loss': 0.011684026718139649, 'learning_rate': 2.172098033934824e-05, 'epoch': 2.8279019660651765}\n",
            "{'loss': 0.01131067180633545, 'learning_rate': 2.0374360355507676e-05, 'epoch': 2.9625639644492323}\n",
            "{'loss': 0.006467768669128418, 'learning_rate': 1.9027740371667117e-05, 'epoch': 3.0972259628332885}\n",
            "{'loss': 0.006724133491516114, 'learning_rate': 1.7681120387826555e-05, 'epoch': 3.2318879612173443}\n",
            "{'loss': 0.00572950553894043, 'learning_rate': 1.6334500403986e-05, 'epoch': 3.3665499596014006}\n",
            "{'loss': 0.005323456764221191, 'learning_rate': 1.4987880420145436e-05, 'epoch': 3.5012119579854564}\n",
            "{'loss': 0.005523428440093994, 'learning_rate': 1.3641260436304875e-05, 'epoch': 3.6358739563695126}\n",
            "{'loss': 0.005272037506103515, 'learning_rate': 1.2294640452464314e-05, 'epoch': 3.7705359547535684}\n",
            "{'loss': 0.005101802825927734, 'learning_rate': 1.0948020468623755e-05, 'epoch': 3.9051979531376246}\n",
            "{'loss': 0.003713836193084717, 'learning_rate': 9.601400484783194e-06, 'epoch': 4.039859951521681}\n",
            " 81% 15000/18565 [35:03<07:56,  7.49it/s][INFO|trainer.py:1162] 2020-12-14 11:38:31,344 >> Saving model checkpoint to /content/drive/MyDrive/Riksarkivet/1800-talsner/Models/NER1800_5_ep/checkpoint-15000\n",
            "[INFO|configuration_utils.py:281] 2020-12-14 11:38:31,351 >> Configuration saved in /content/drive/MyDrive/Riksarkivet/1800-talsner/Models/NER1800_5_ep/checkpoint-15000/config.json\n",
            "[INFO|modeling_utils.py:741] 2020-12-14 11:38:34,387 >> Model weights saved in /content/drive/MyDrive/Riksarkivet/1800-talsner/Models/NER1800_5_ep/checkpoint-15000/pytorch_model.bin\n",
            "{'loss': 0.0027309486865997315, 'learning_rate': 8.254780500942633e-06, 'epoch': 4.174521949905737}\n",
            "{'loss': 0.002571457862854004, 'learning_rate': 6.908160517102074e-06, 'epoch': 4.3091839482897925}\n",
            "{'loss': 0.0019606918096542357, 'learning_rate': 5.561540533261514e-06, 'epoch': 4.443845946673848}\n",
            "{'loss': 0.002191960334777832, 'learning_rate': 4.214920549420954e-06, 'epoch': 4.578507945057905}\n",
            "{'loss': 0.0017775499820709229, 'learning_rate': 2.8683005655803933e-06, 'epoch': 4.713169943441961}\n",
            "{'loss': 0.0018302321434020997, 'learning_rate': 1.521680581739833e-06, 'epoch': 4.8478319418260165}\n",
            "{'loss': 0.0017426704168319702, 'learning_rate': 1.7506059789927283e-07, 'epoch': 4.982493940210073}\n",
            "100% 18506/18565 [43:20<00:08,  7.06it/s]"
          ],
          "name": "stdout"
        }
      ]
    },
    {
      "cell_type": "code",
      "metadata": {
        "id": "9rjMZZukQuwu"
      },
      "source": [
        "from transformers import pipeline"
      ],
      "execution_count": null,
      "outputs": []
    },
    {
      "cell_type": "code",
      "metadata": {
        "id": "tCK7M9D1Qz03",
        "colab": {
          "base_uri": "https://localhost:8080/"
        },
        "outputId": "e378660e-ed1d-4ce1-c60f-f795de432dad"
      },
      "source": [
        "nlp_ner = pipeline(\n",
        "    \"ner\",\n",
        "    model=\"/content/drive/MyDrive/Riksarkivet/1800-talsner/Models/NER1800Latest\",\n",
        "    tokenizer=\"/content/drive/MyDrive/Riksarkivet/1800-talsner/Models/NER1800Latest\")"
      ],
      "execution_count": null,
      "outputs": [
        {
          "output_type": "stream",
          "text": [
            "Some weights of BertModel were not initialized from the model checkpoint at /content/drive/MyDrive/Riksarkivet/1800-talsner/Models/NER1800Latest and are newly initialized: ['bert.pooler.dense.weight', 'bert.pooler.dense.bias']\n",
            "You should probably TRAIN this model on a down-stream task to be able to use it for predictions and inference.\n"
          ],
          "name": "stderr"
        }
      ]
    },
    {
      "cell_type": "code",
      "metadata": {
        "colab": {
          "base_uri": "https://localhost:8080/"
        },
        "id": "MF0TI0xRmpSF",
        "outputId": "c9105441-e549-4c72-e2d2-78fb70358d52"
      },
      "source": [
        "nlp_ner(\"Erik har just jobbat en timme\")"
      ],
      "execution_count": null,
      "outputs": [
        {
          "output_type": "stream",
          "text": [
            "Asking to truncate to max_length but no maximum length is provided and the model has no predefined maximum length. Default to no truncation.\n"
          ],
          "name": "stderr"
        },
        {
          "output_type": "execute_result",
          "data": {
            "text/plain": [
              "[{'entity': 'LABEL_1',\n",
              "  'index': 1,\n",
              "  'score': 0.9998069405555725,\n",
              "  'word': 'Erik'},\n",
              " {'entity': 'LABEL_0', 'index': 2, 'score': 0.9999836683273315, 'word': 'har'},\n",
              " {'entity': 'LABEL_0',\n",
              "  'index': 3,\n",
              "  'score': 0.9999800324440002,\n",
              "  'word': 'just'},\n",
              " {'entity': 'LABEL_0',\n",
              "  'index': 4,\n",
              "  'score': 0.9999552965164185,\n",
              "  'word': 'jobbat'},\n",
              " {'entity': 'LABEL_7', 'index': 5, 'score': 0.9965015649795532, 'word': 'en'},\n",
              " {'entity': 'LABEL_8',\n",
              "  'index': 6,\n",
              "  'score': 0.991729199886322,\n",
              "  'word': 'timme'}]"
            ]
          },
          "metadata": {
            "tags": []
          },
          "execution_count": 11
        }
      ]
    }
  ]
}